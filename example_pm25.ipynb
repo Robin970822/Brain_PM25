{
 "cells": [
  {
   "cell_type": "code",
   "execution_count": null,
   "metadata": {},
   "outputs": [],
   "source": [
    "from utils import propose_region, bet_unet\n",
    "from model import load_model, unet\n",
    "from tqdm import tqdm\n",
    "\n",
    "import numpy as np\n",
    "import nibabel as nib\n",
    "\n",
    "import cv2\n",
    "import os\n",
    "import time"
   ]
  },
  {
   "cell_type": "code",
   "execution_count": null,
   "metadata": {},
   "outputs": [],
   "source": [
    "def detect_file(filename, model, unet):\n",
    "    data = nib.load(filename)\n",
    "    mask = nib.load(filename)\n",
    "    mask_roi = nib.load(filename)\n",
    "\n",
    "    width, height, frame_num = data.shape\n",
    "    matrix = data.get_data()\n",
    "    bet_matrix = np.uint8(bet_unet(matrix, unet))\n",
    "\n",
    "    start = time.time()\n",
    "    for i in tqdm(range(frame_num), desc='Detect in {}'.format(os.path.basename(filename))):\n",
    "        img = matrix[:, :, i]\n",
    "        bet = bet_matrix[:, :, i]\n",
    "        selected, mask_ROI = detect(img, model, bet)\n",
    "        mask.get_data()[:, :, i] = selected\n",
    "        mask_roi.get_data()[:, :, i] = mask_ROI\n",
    "    end = time.time()\n",
    "\n",
    "    print('Using time {}s'.format(end - start))\n",
    "    return mask, mask_roi\n",
    "\n",
    "\n",
    "def detect(img, model, bet, pad=10, is_debug=False):\n",
    "    width, height = img.shape\n",
    "    mask_ROI = propose_region(img, is_debug) & bet\n",
    "    num, labels, stats, centroid = cv2.connectedComponentsWithStats(\n",
    "        mask_ROI, connectivity=8)\n",
    "    selected = np.zeros_like(img)\n",
    "    for i, stat, center in zip(range(num), stats, centroid):\n",
    "        if is_debug:\n",
    "            print(i, stat, center)\n",
    "        x, y, w, h, area = stat\n",
    "        # remove background\n",
    "        if x == 0 and y == 0:\n",
    "            continue\n",
    "        cx, cy = np.uint8(center)\n",
    "        # crop a slice around pickle\n",
    "        # valid bounder\n",
    "        if cx - pad < 0 or cx + pad > height or cy - pad < 0 or cy + pad > width:\n",
    "            continue\n",
    "        if is_debug:\n",
    "            print('label:{}, center:({},{})'.format(i, cx, cy))\n",
    "        slice_img = img[cy - pad: cy + pad, cx - pad: cx + pad]\n",
    "        slice_img = slice_img[:, :, np.newaxis]\n",
    "        slice_img = np.expand_dims(slice_img, axis=0)\n",
    "        res = model.predict(slice_img)\n",
    "        if np.argmax(res) == 1:\n",
    "            selected[labels == i] = np.max(res)\n",
    "            if is_debug:\n",
    "                print('label:{}, center:({},{})'.format(i, cx, cy))\n",
    "    return selected, mask_ROI"
   ]
  },
  {
   "cell_type": "markdown",
   "metadata": {},
   "source": [
    "路径定义，数据、模型与结果在example文件夹中"
   ]
  },
  {
   "cell_type": "code",
   "execution_count": null,
   "metadata": {},
   "outputs": [],
   "source": [
    "data_root = 'example/data'\n",
    "model_path = 'example/model'\n",
    "result_path = 'example/result'"
   ]
  },
  {
   "cell_type": "markdown",
   "metadata": {},
   "source": [
    "# 单张图片检测"
   ]
  },
  {
   "cell_type": "code",
   "execution_count": null,
   "metadata": {},
   "outputs": [],
   "source": [
    "data_filename = '0507_90day50u_20190812_mouse51SWI.nii'\n",
    "data_path = os.path.join(data_root, data_filename)\n",
    "\n",
    "result_filename = '{}_detect.nii'.format(data_filename.split('/')[-1].split('.')[-2])\n",
    "\n",
    "result_path = os.path.join(result_path, result_filename)\n",
    "\n",
    "model_name = 'CNN_p10_e2000.h5'\n",
    "unet_path = os.path.join(model_path, 'unet_BET2.hdf5')\n",
    "clf_path = os.path.join(model_path, model_name)\n",
    "bet_net = unet(pretrained_weights=unet_path)\n",
    "model = load_model(clf_path)\n",
    "\n",
    "mask, mask_roi = detect_file(data_path, model, bet_net)\n",
    "\n",
    "nib.save(mask, result_path)\n",
    "nib.save(mask_roi, 'roi.nii')"
   ]
  },
  {
   "cell_type": "markdown",
   "metadata": {},
   "source": [
    "# 多张图片检测"
   ]
  },
  {
   "cell_type": "code",
   "execution_count": null,
   "metadata": {},
   "outputs": [],
   "source": [
    "model_name = 'CNN_p10_e2000.h5'\n",
    "clf_path = os.path.join(model_path, model_name)\n",
    "model = load_model(clf_path)\n",
    "\n",
    "input_path = os.path.join(data_root, './')"
   ]
  },
  {
   "cell_type": "markdown",
   "metadata": {},
   "source": [
    "method = ['bet', 'heatmap', 'unet'] 分别对应形态学、Heatmap和Unet三种检测方法"
   ]
  },
  {
   "cell_type": "code",
   "execution_count": null,
   "metadata": {},
   "outputs": [],
   "source": [
    "method = args.method\n",
    "print('Using {} for detection...'.format(method))\n",
    "if method == 'bet':\n",
    "    method_path = os.path.join(model_path, 'unet_BET2.hdf5')\n",
    "    from detect import detect_file\n",
    "elif method == 'heatmap':\n",
    "    method_path = os.path.join(model_path, 'unet_pm25_yuzq.hdf5')\n",
    "    from detect_by_heatmap import detect_file\n",
    "elif method == 'unet':\n",
    "    method_path = os.path.join(model_path, 'unet_pm25_yuzq.hdf5')\n",
    "    from detect_by_unet import detect_file\n",
    "method_net = unet(pretrained_weights=method_path)"
   ]
  },
  {
   "cell_type": "code",
   "execution_count": null,
   "metadata": {},
   "outputs": [],
   "source": [
    "NII_fileList = []\n",
    "for dirName, subdirList, fileList in os.walk(input_path):\n",
    "    for filename in fileList:\n",
    "        if \".nii\" in filename.lower():\n",
    "            # print filename\n",
    "            NII_fileList.append(os.path.join(dirName, filename))\n",
    "\n",
    "for file in tqdm(NII_fileList, desc='Detect in {}'.format(os.path.abspath(input_path))):\n",
    "    filename = os.path.basename(file)\n",
    "    output_name = '{}_detect_by_{}.nii'.format(filename.split('.')[-2], method)\n",
    "    output_path = os.path.join(result_path, output_name)\n",
    "    mask, _ = detect_file(file, model, method_net)\n",
    "    nib.save(mask, output_path)"
   ]
  }
 ],
 "metadata": {
  "kernelspec": {
   "display_name": "Python 3",
   "language": "python",
   "name": "python3"
  },
  "language_info": {
   "codemirror_mode": {
    "name": "ipython",
    "version": 3
   },
   "file_extension": ".py",
   "mimetype": "text/x-python",
   "name": "python",
   "nbconvert_exporter": "python",
   "pygments_lexer": "ipython3",
   "version": "3.7.0"
  }
 },
 "nbformat": 4,
 "nbformat_minor": 2
}
