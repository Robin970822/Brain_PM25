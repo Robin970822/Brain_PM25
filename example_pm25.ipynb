{
 "cells": [
  {
   "cell_type": "code",
   "execution_count": 1,
   "metadata": {},
   "outputs": [
    {
     "name": "stderr",
     "output_type": "stream",
     "text": [
      "C:\\Users\\hasee007\\AppData\\Roaming\\Python\\Python37\\site-packages\\tensorflow\\python\\framework\\dtypes.py:516: FutureWarning: Passing (type, 1) or '1type' as a synonym of type is deprecated; in a future version of numpy, it will be understood as (type, (1,)) / '(1,)type'.\n",
      "  _np_qint8 = np.dtype([(\"qint8\", np.int8, 1)])\n",
      "C:\\Users\\hasee007\\AppData\\Roaming\\Python\\Python37\\site-packages\\tensorflow\\python\\framework\\dtypes.py:517: FutureWarning: Passing (type, 1) or '1type' as a synonym of type is deprecated; in a future version of numpy, it will be understood as (type, (1,)) / '(1,)type'.\n",
      "  _np_quint8 = np.dtype([(\"quint8\", np.uint8, 1)])\n",
      "C:\\Users\\hasee007\\AppData\\Roaming\\Python\\Python37\\site-packages\\tensorflow\\python\\framework\\dtypes.py:518: FutureWarning: Passing (type, 1) or '1type' as a synonym of type is deprecated; in a future version of numpy, it will be understood as (type, (1,)) / '(1,)type'.\n",
      "  _np_qint16 = np.dtype([(\"qint16\", np.int16, 1)])\n",
      "C:\\Users\\hasee007\\AppData\\Roaming\\Python\\Python37\\site-packages\\tensorflow\\python\\framework\\dtypes.py:519: FutureWarning: Passing (type, 1) or '1type' as a synonym of type is deprecated; in a future version of numpy, it will be understood as (type, (1,)) / '(1,)type'.\n",
      "  _np_quint16 = np.dtype([(\"quint16\", np.uint16, 1)])\n",
      "C:\\Users\\hasee007\\AppData\\Roaming\\Python\\Python37\\site-packages\\tensorflow\\python\\framework\\dtypes.py:520: FutureWarning: Passing (type, 1) or '1type' as a synonym of type is deprecated; in a future version of numpy, it will be understood as (type, (1,)) / '(1,)type'.\n",
      "  _np_qint32 = np.dtype([(\"qint32\", np.int32, 1)])\n",
      "C:\\Users\\hasee007\\AppData\\Roaming\\Python\\Python37\\site-packages\\tensorflow\\python\\framework\\dtypes.py:525: FutureWarning: Passing (type, 1) or '1type' as a synonym of type is deprecated; in a future version of numpy, it will be understood as (type, (1,)) / '(1,)type'.\n",
      "  np_resource = np.dtype([(\"resource\", np.ubyte, 1)])\n",
      "E:\\Anaconda3\\lib\\site-packages\\requests\\__init__.py:91: RequestsDependencyWarning: urllib3 (1.25.3) or chardet (3.0.4) doesn't match a supported version!\n",
      "  RequestsDependencyWarning)\n",
      "C:\\Users\\hasee007\\AppData\\Roaming\\Python\\Python37\\site-packages\\tensorboard\\compat\\tensorflow_stub\\dtypes.py:541: FutureWarning: Passing (type, 1) or '1type' as a synonym of type is deprecated; in a future version of numpy, it will be understood as (type, (1,)) / '(1,)type'.\n",
      "  _np_qint8 = np.dtype([(\"qint8\", np.int8, 1)])\n",
      "C:\\Users\\hasee007\\AppData\\Roaming\\Python\\Python37\\site-packages\\tensorboard\\compat\\tensorflow_stub\\dtypes.py:542: FutureWarning: Passing (type, 1) or '1type' as a synonym of type is deprecated; in a future version of numpy, it will be understood as (type, (1,)) / '(1,)type'.\n",
      "  _np_quint8 = np.dtype([(\"quint8\", np.uint8, 1)])\n",
      "C:\\Users\\hasee007\\AppData\\Roaming\\Python\\Python37\\site-packages\\tensorboard\\compat\\tensorflow_stub\\dtypes.py:543: FutureWarning: Passing (type, 1) or '1type' as a synonym of type is deprecated; in a future version of numpy, it will be understood as (type, (1,)) / '(1,)type'.\n",
      "  _np_qint16 = np.dtype([(\"qint16\", np.int16, 1)])\n",
      "C:\\Users\\hasee007\\AppData\\Roaming\\Python\\Python37\\site-packages\\tensorboard\\compat\\tensorflow_stub\\dtypes.py:544: FutureWarning: Passing (type, 1) or '1type' as a synonym of type is deprecated; in a future version of numpy, it will be understood as (type, (1,)) / '(1,)type'.\n",
      "  _np_quint16 = np.dtype([(\"quint16\", np.uint16, 1)])\n",
      "C:\\Users\\hasee007\\AppData\\Roaming\\Python\\Python37\\site-packages\\tensorboard\\compat\\tensorflow_stub\\dtypes.py:545: FutureWarning: Passing (type, 1) or '1type' as a synonym of type is deprecated; in a future version of numpy, it will be understood as (type, (1,)) / '(1,)type'.\n",
      "  _np_qint32 = np.dtype([(\"qint32\", np.int32, 1)])\n",
      "C:\\Users\\hasee007\\AppData\\Roaming\\Python\\Python37\\site-packages\\tensorboard\\compat\\tensorflow_stub\\dtypes.py:550: FutureWarning: Passing (type, 1) or '1type' as a synonym of type is deprecated; in a future version of numpy, it will be understood as (type, (1,)) / '(1,)type'.\n",
      "  np_resource = np.dtype([(\"resource\", np.ubyte, 1)])\n",
      "Using TensorFlow backend.\n"
     ]
    }
   ],
   "source": [
    "from utils import propose_region, bet_unet\n",
    "from model import load_model, unet\n",
    "from tqdm import tqdm\n",
    "\n",
    "import numpy as np\n",
    "import nibabel as nib\n",
    "\n",
    "import cv2\n",
    "import os\n",
    "import time"
   ]
  },
  {
   "cell_type": "code",
   "execution_count": 2,
   "metadata": {},
   "outputs": [],
   "source": [
    "def detect_file(filename, model, unet):\n",
    "    data = nib.load(filename)\n",
    "    mask = nib.load(filename)\n",
    "    mask_roi = nib.load(filename)\n",
    "\n",
    "    width, height, frame_num = data.shape\n",
    "    matrix = data.get_data()\n",
    "    bet_matrix = np.uint8(bet_unet(matrix, unet))\n",
    "\n",
    "    start = time.time()\n",
    "    for i in tqdm(range(frame_num), desc='Detect in {}'.format(os.path.basename(filename))):\n",
    "        img = matrix[:, :, i]\n",
    "        bet = bet_matrix[:, :, i]\n",
    "        selected, mask_ROI = detect(img, model, bet)\n",
    "        mask.get_data()[:, :, i] = selected\n",
    "        mask_roi.get_data()[:, :, i] = mask_ROI\n",
    "    end = time.time()\n",
    "\n",
    "    print('Using time {}s'.format(end - start))\n",
    "    return mask, mask_roi\n",
    "\n",
    "\n",
    "def detect(img, model, bet, pad=10, is_debug=False):\n",
    "    width, height = img.shape\n",
    "    mask_ROI = propose_region(img, is_debug) & bet\n",
    "    num, labels, stats, centroid = cv2.connectedComponentsWithStats(\n",
    "        mask_ROI, connectivity=8)\n",
    "    selected = np.zeros_like(img)\n",
    "    for i, stat, center in zip(range(num), stats, centroid):\n",
    "        if is_debug:\n",
    "            print(i, stat, center)\n",
    "        x, y, w, h, area = stat\n",
    "        # remove background\n",
    "        if x == 0 and y == 0:\n",
    "            continue\n",
    "        cx, cy = np.uint8(center)\n",
    "        # crop a slice around pickle\n",
    "        # valid bounder\n",
    "        if cx - pad < 0 or cx + pad > height or cy - pad < 0 or cy + pad > width:\n",
    "            continue\n",
    "        if is_debug:\n",
    "            print('label:{}, center:({},{})'.format(i, cx, cy))\n",
    "        slice_img = img[cy - pad: cy + pad, cx - pad: cx + pad]\n",
    "        slice_img = slice_img[:, :, np.newaxis]\n",
    "        slice_img = np.expand_dims(slice_img, axis=0)\n",
    "        res = model.predict(slice_img)\n",
    "        if np.argmax(res) == 1:\n",
    "            selected[labels == i] = np.max(res)\n",
    "            if is_debug:\n",
    "                print('label:{}, center:({},{})'.format(i, cx, cy))\n",
    "    return selected, mask_ROI"
   ]
  },
  {
   "cell_type": "markdown",
   "metadata": {},
   "source": [
    "路径定义，数据、模型与结果在example文件夹中"
   ]
  },
  {
   "cell_type": "code",
   "execution_count": 3,
   "metadata": {},
   "outputs": [],
   "source": [
    "data_root = 'example/data'\n",
    "model_path = 'example/model'\n",
    "result_path = 'example/result'"
   ]
  },
  {
   "cell_type": "markdown",
   "metadata": {},
   "source": [
    "# 单张图片检测"
   ]
  },
  {
   "cell_type": "code",
   "execution_count": 4,
   "metadata": {},
   "outputs": [
    {
     "name": "stdout",
     "output_type": "stream",
     "text": [
      "WARNING:tensorflow:From E:\\Anaconda3\\lib\\site-packages\\keras\\backend\\tensorflow_backend.py:4070: The name tf.nn.max_pool is deprecated. Please use tf.nn.max_pool2d instead.\n",
      "\n",
      "WARNING:tensorflow:From F:\\GitHub\\DICOM\\model.py:106: add_dispatch_support.<locals>.wrapper (from tensorflow.python.ops.array_ops) is deprecated and will be removed in a future version.\n",
      "Instructions for updating:\n",
      "Use tf.where in 2.0, which has the same broadcast rule as np.where\n",
      "WARNING:tensorflow:From C:\\Users\\hasee007\\AppData\\Roaming\\Python\\Python37\\site-packages\\tensorflow\\python\\ops\\init_ops.py:97: calling Zeros.__init__ (from tensorflow.python.ops.init_ops) with dtype is deprecated and will be removed in a future version.\n",
      "Instructions for updating:\n",
      "Call initializer instance with the dtype argument instead of passing it to the constructor\n",
      "WARNING:tensorflow:From C:\\Users\\hasee007\\AppData\\Roaming\\Python\\Python37\\site-packages\\tensorflow\\python\\ops\\init_ops.py:97: calling Ones.__init__ (from tensorflow.python.ops.init_ops) with dtype is deprecated and will be removed in a future version.\n",
      "Instructions for updating:\n",
      "Call initializer instance with the dtype argument instead of passing it to the constructor\n",
      "WARNING:tensorflow:From C:\\Users\\hasee007\\AppData\\Roaming\\Python\\Python37\\site-packages\\tensorflow\\python\\ops\\init_ops.py:97: calling GlorotUniform.__init__ (from tensorflow.python.ops.init_ops) with dtype is deprecated and will be removed in a future version.\n",
      "Instructions for updating:\n",
      "Call initializer instance with the dtype argument instead of passing it to the constructor\n",
      "WARNING:tensorflow:From C:\\Users\\hasee007\\AppData\\Roaming\\Python\\Python37\\site-packages\\tensorflow\\python\\ops\\init_ops.py:1251: calling VarianceScaling.__init__ (from tensorflow.python.ops.init_ops) with dtype is deprecated and will be removed in a future version.\n",
      "Instructions for updating:\n",
      "Call initializer instance with the dtype argument instead of passing it to the constructor\n",
      "WARNING:tensorflow:Sequential models without an `input_shape` passed to the first layer cannot reload their optimizer state. As a result, your model isstarting with a freshly initialized optimizer.\n",
      "WARNING:tensorflow:From E:\\Anaconda3\\lib\\site-packages\\keras\\backend\\tensorflow_backend.py:422: The name tf.global_variables is deprecated. Please use tf.compat.v1.global_variables instead.\n",
      "\n"
     ]
    },
    {
     "name": "stderr",
     "output_type": "stream",
     "text": [
      "Detect in 0507_90day50u_20190812_mouse51SWI.nii: 100%|████████████████████████████████████████████████████████████████████████████████████████████████████████████████████████████| 30/30 [00:07<00:00,  4.12it/s]\n"
     ]
    },
    {
     "name": "stdout",
     "output_type": "stream",
     "text": [
      "Using time 7.343324899673462s\n"
     ]
    }
   ],
   "source": [
    "data_filename = '0507_90day50u_20190812_mouse51SWI.nii'\n",
    "data_path = os.path.join(data_root, data_filename)\n",
    "\n",
    "result_filename = '{}_detect.nii'.format(data_filename.split('/')[-1].split('.')[-2])\n",
    "\n",
    "result_nii = os.path.join(result_path, result_filename)\n",
    "\n",
    "model_name = 'CNN_p10_e2000.h5'\n",
    "unet_path = os.path.join(model_path, 'unet_BET2.hdf5')\n",
    "clf_path = os.path.join(model_path, model_name)\n",
    "bet_net = unet(pretrained_weights=unet_path)\n",
    "model = load_model(clf_path)\n",
    "\n",
    "mask, mask_roi = detect_file(data_path, model, bet_net)\n",
    "\n",
    "nib.save(mask, result_nii)\n",
    "nib.save(mask_roi, 'roi.nii')"
   ]
  },
  {
   "cell_type": "markdown",
   "metadata": {},
   "source": [
    "# 多张图片检测"
   ]
  },
  {
   "cell_type": "code",
   "execution_count": 5,
   "metadata": {},
   "outputs": [
    {
     "name": "stdout",
     "output_type": "stream",
     "text": [
      "WARNING:tensorflow:Sequential models without an `input_shape` passed to the first layer cannot reload their optimizer state. As a result, your model isstarting with a freshly initialized optimizer.\n"
     ]
    }
   ],
   "source": [
    "model_name = 'CNN_p10_e2000.h5'\n",
    "clf_path = os.path.join(model_path, model_name)\n",
    "model = load_model(clf_path)\n",
    "\n",
    "input_path = os.path.join(data_root, './')"
   ]
  },
  {
   "cell_type": "markdown",
   "metadata": {},
   "source": [
    "method = ['bet', 'heatmap', 'unet'] 分别对应形态学、Heatmap和Unet三种检测方法"
   ]
  },
  {
   "cell_type": "code",
   "execution_count": 6,
   "metadata": {},
   "outputs": [
    {
     "name": "stdout",
     "output_type": "stream",
     "text": [
      "Using bet for detection...\n"
     ]
    }
   ],
   "source": [
    "method = 'bet'\n",
    "print('Using {} for detection...'.format(method))\n",
    "if method == 'bet':\n",
    "    method_path = os.path.join(model_path, 'unet_BET2.hdf5')\n",
    "    from detect import detect_file\n",
    "elif method == 'heatmap':\n",
    "    method_path = os.path.join(model_path, 'unet_pm25_yuzq.hdf5')\n",
    "    from detect_by_heatmap import detect_file\n",
    "elif method == 'unet':\n",
    "    method_path = os.path.join(model_path, 'unet_pm25_yuzq.hdf5')\n",
    "    from detect_by_unet import detect_file\n",
    "method_net = unet(pretrained_weights=method_path)"
   ]
  },
  {
   "cell_type": "code",
   "execution_count": 7,
   "metadata": {},
   "outputs": [],
   "source": [
    "NII_fileList = []\n",
    "for dirName, subdirList, fileList in os.walk(input_path):\n",
    "    for filename in fileList:\n",
    "        if \".nii\" in filename.lower():\n",
    "            # print filename\n",
    "            NII_fileList.append(os.path.join(dirName, filename))"
   ]
  },
  {
   "cell_type": "code",
   "execution_count": 8,
   "metadata": {},
   "outputs": [
    {
     "name": "stderr",
     "output_type": "stream",
     "text": [
      "Detect in F:\\GitHub\\DICOM\\example\\data:   0%|                                                                                                                                               | 0/4 [00:00<?, ?it/s]\n",
      "Detect in 0507_90day50u_20190812_mouse51SWI.nii:   0%|                                                                                                                                     | 0/30 [00:00<?, ?it/s]\n",
      "Detect in 0507_90day50u_20190812_mouse51SWI.nii:   7%|████████▎                                                                                                                    | 2/30 [00:02<00:30,  1.10s/it]\n",
      "Detect in 0507_90day50u_20190812_mouse51SWI.nii:  10%|████████████▌                                                                                                                | 3/30 [00:02<00:22,  1.19it/s]\n",
      "Detect in 0507_90day50u_20190812_mouse51SWI.nii:  13%|████████████████▋                                                                                                            | 4/30 [00:02<00:17,  1.49it/s]\n",
      "Detect in 0507_90day50u_20190812_mouse51SWI.nii:  17%|████████████████████▊                                                                                                        | 5/30 [00:02<00:13,  1.82it/s]\n",
      "Detect in 0507_90day50u_20190812_mouse51SWI.nii:  20%|█████████████████████████                                                                                                    | 6/30 [00:03<00:11,  2.12it/s]\n",
      "Detect in 0507_90day50u_20190812_mouse51SWI.nii:  23%|█████████████████████████████▏                                                                                               | 7/30 [00:03<00:10,  2.25it/s]\n",
      "Detect in 0507_90day50u_20190812_mouse51SWI.nii:  27%|█████████████████████████████████▎                                                                                           | 8/30 [00:03<00:08,  2.49it/s]\n",
      "Detect in 0507_90day50u_20190812_mouse51SWI.nii:  30%|█████████████████████████████████████▌                                                                                       | 9/30 [00:04<00:07,  2.78it/s]\n",
      "Detect in 0507_90day50u_20190812_mouse51SWI.nii:  33%|█████████████████████████████████████████▎                                                                                  | 10/30 [00:04<00:07,  2.61it/s]\n",
      "Detect in 0507_90day50u_20190812_mouse51SWI.nii:  37%|█████████████████████████████████████████████▍                                                                              | 11/30 [00:05<00:08,  2.20it/s]\n",
      "Detect in 0507_90day50u_20190812_mouse51SWI.nii:  40%|█████████████████████████████████████████████████▌                                                                          | 12/30 [00:05<00:07,  2.26it/s]\n",
      "Detect in 0507_90day50u_20190812_mouse51SWI.nii:  43%|█████████████████████████████████████████████████████▋                                                                      | 13/30 [00:05<00:06,  2.58it/s]\n",
      "Detect in 0507_90day50u_20190812_mouse51SWI.nii:  47%|█████████████████████████████████████████████████████████▊                                                                  | 14/30 [00:06<00:08,  1.84it/s]\n",
      "Detect in 0507_90day50u_20190812_mouse51SWI.nii:  50%|██████████████████████████████████████████████████████████████                                                              | 15/30 [00:07<00:06,  2.24it/s]\n",
      "Detect in 0507_90day50u_20190812_mouse51SWI.nii:  53%|██████████████████████████████████████████████████████████████████▏                                                         | 16/30 [00:07<00:05,  2.79it/s]\n",
      "Detect in 0507_90day50u_20190812_mouse51SWI.nii:  57%|██████████████████████████████████████████████████████████████████████▎                                                     | 17/30 [00:07<00:03,  3.52it/s]\n",
      "Detect in 0507_90day50u_20190812_mouse51SWI.nii:  60%|██████████████████████████████████████████████████████████████████████████▍                                                 | 18/30 [00:07<00:03,  3.96it/s]\n",
      "Detect in 0507_90day50u_20190812_mouse51SWI.nii:  63%|██████████████████████████████████████████████████████████████████████████████▌                                             | 19/30 [00:07<00:02,  4.31it/s]\n",
      "Detect in 0507_90day50u_20190812_mouse51SWI.nii:  67%|██████████████████████████████████████████████████████████████████████████████████▋                                         | 20/30 [00:08<00:02,  3.93it/s]\n",
      "Detect in 0507_90day50u_20190812_mouse51SWI.nii:  70%|██████████████████████████████████████████████████████████████████████████████████████▊                                     | 21/30 [00:08<00:02,  3.67it/s]\n",
      "Detect in 0507_90day50u_20190812_mouse51SWI.nii:  73%|██████████████████████████████████████████████████████████████████████████████████████████▉                                 | 22/30 [00:08<00:02,  3.95it/s]\n",
      "Detect in 0507_90day50u_20190812_mouse51SWI.nii:  80%|███████████████████████████████████████████████████████████████████████████████████████████████████▏                        | 24/30 [00:08<00:01,  4.78it/s]\n",
      "Detect in 0507_90day50u_20190812_mouse51SWI.nii:  90%|███████████████████████████████████████████████████████████████████████████████████████████████████████████████▌            | 27/30 [00:09<00:00,  5.65it/s]\n",
      "Detect in 0507_90day50u_20190812_mouse51SWI.nii: 100%|████████████████████████████████████████████████████████████████████████████████████████████████████████████████████████████| 30/30 [00:09<00:00,  3.24it/s]\n"
     ]
    },
    {
     "name": "stdout",
     "output_type": "stream",
     "text": [
      "Using time 9.268113613128662s\n"
     ]
    },
    {
     "name": "stderr",
     "output_type": "stream",
     "text": [
      "Detect in F:\\GitHub\\DICOM\\example\\data:  25%|█████████████████████████████████▊                                                                                                     | 1/4 [00:13<00:40, 13.40s/it]\n",
      "Detect in 0507_90day50u_20190812_mouse52SWI.nii:   0%|                                                                                                                                     | 0/30 [00:00<?, ?it/s]\n",
      "Detect in 0507_90day50u_20190812_mouse52SWI.nii:   3%|████▏                                                                                                                        | 1/30 [00:00<00:05,  5.16it/s]\n",
      "Detect in 0507_90day50u_20190812_mouse52SWI.nii:   7%|████████▎                                                                                                                    | 2/30 [00:00<00:07,  3.74it/s]\n",
      "Detect in 0507_90day50u_20190812_mouse52SWI.nii:  10%|████████████▌                                                                                                                | 3/30 [00:01<00:08,  3.11it/s]\n",
      "Detect in 0507_90day50u_20190812_mouse52SWI.nii:  13%|████████████████▋                                                                                                            | 4/30 [00:01<00:08,  3.14it/s]\n",
      "Detect in 0507_90day50u_20190812_mouse52SWI.nii:  17%|████████████████████▊                                                                                                        | 5/30 [00:01<00:07,  3.18it/s]\n",
      "Detect in 0507_90day50u_20190812_mouse52SWI.nii:  20%|█████████████████████████                                                                                                    | 6/30 [00:02<00:10,  2.35it/s]\n",
      "Detect in 0507_90day50u_20190812_mouse52SWI.nii:  23%|█████████████████████████████▏                                                                                               | 7/30 [00:03<00:13,  1.70it/s]\n",
      "Detect in 0507_90day50u_20190812_mouse52SWI.nii:  27%|█████████████████████████████████▎                                                                                           | 8/30 [00:03<00:12,  1.70it/s]\n",
      "Detect in 0507_90day50u_20190812_mouse52SWI.nii:  30%|█████████████████████████████████████▌                                                                                       | 9/30 [00:04<00:10,  1.93it/s]\n",
      "Detect in 0507_90day50u_20190812_mouse52SWI.nii:  33%|█████████████████████████████████████████▎                                                                                  | 10/30 [00:04<00:11,  1.78it/s]\n",
      "Detect in 0507_90day50u_20190812_mouse52SWI.nii:  37%|█████████████████████████████████████████████▍                                                                              | 11/30 [00:05<00:12,  1.56it/s]\n",
      "Detect in 0507_90day50u_20190812_mouse52SWI.nii:  40%|█████████████████████████████████████████████████▌                                                                          | 12/30 [00:06<00:10,  1.65it/s]\n",
      "Detect in 0507_90day50u_20190812_mouse52SWI.nii:  43%|█████████████████████████████████████████████████████▋                                                                      | 13/30 [00:06<00:10,  1.69it/s]\n",
      "Detect in 0507_90day50u_20190812_mouse52SWI.nii:  47%|█████████████████████████████████████████████████████████▊                                                                  | 14/30 [00:07<00:08,  1.80it/s]\n",
      "Detect in 0507_90day50u_20190812_mouse52SWI.nii:  50%|██████████████████████████████████████████████████████████████                                                              | 15/30 [00:07<00:07,  2.14it/s]\n",
      "Detect in 0507_90day50u_20190812_mouse52SWI.nii:  53%|██████████████████████████████████████████████████████████████████▏                                                         | 16/30 [00:07<00:05,  2.37it/s]\n",
      "Detect in 0507_90day50u_20190812_mouse52SWI.nii:  57%|██████████████████████████████████████████████████████████████████████▎                                                     | 17/30 [00:08<00:04,  2.70it/s]\n",
      "Detect in 0507_90day50u_20190812_mouse52SWI.nii:  60%|██████████████████████████████████████████████████████████████████████████▍                                                 | 18/30 [00:08<00:04,  2.70it/s]\n",
      "Detect in 0507_90day50u_20190812_mouse52SWI.nii:  63%|██████████████████████████████████████████████████████████████████████████████▌                                             | 19/30 [00:08<00:04,  2.66it/s]\n",
      "Detect in 0507_90day50u_20190812_mouse52SWI.nii:  67%|██████████████████████████████████████████████████████████████████████████████████▋                                         | 20/30 [00:09<00:03,  2.61it/s]\n",
      "Detect in 0507_90day50u_20190812_mouse52SWI.nii:  70%|██████████████████████████████████████████████████████████████████████████████████████▊                                     | 21/30 [00:09<00:03,  2.52it/s]\n",
      "Detect in 0507_90day50u_20190812_mouse52SWI.nii:  73%|██████████████████████████████████████████████████████████████████████████████████████████▉                                 | 22/30 [00:10<00:03,  2.41it/s]\n",
      "Detect in 0507_90day50u_20190812_mouse52SWI.nii:  77%|███████████████████████████████████████████████████████████████████████████████████████████████                             | 23/30 [00:10<00:02,  2.63it/s]\n",
      "Detect in 0507_90day50u_20190812_mouse52SWI.nii:  80%|███████████████████████████████████████████████████████████████████████████████████████████████████▏                        | 24/30 [00:10<00:01,  3.00it/s]\n",
      "Detect in 0507_90day50u_20190812_mouse52SWI.nii:  83%|███████████████████████████████████████████████████████████████████████████████████████████████████████▎                    | 25/30 [00:10<00:01,  3.43it/s]\n",
      "Detect in 0507_90day50u_20190812_mouse52SWI.nii:  87%|███████████████████████████████████████████████████████████████████████████████████████████████████████████▍                | 26/30 [00:11<00:01,  3.80it/s]\n",
      "Detect in 0507_90day50u_20190812_mouse52SWI.nii:  90%|███████████████████████████████████████████████████████████████████████████████████████████████████████████████▌            | 27/30 [00:11<00:00,  3.82it/s]\n",
      "Detect in 0507_90day50u_20190812_mouse52SWI.nii: 100%|████████████████████████████████████████████████████████████████████████████████████████████████████████████████████████████| 30/30 [00:11<00:00,  2.60it/s]\n"
     ]
    },
    {
     "name": "stdout",
     "output_type": "stream",
     "text": [
      "Using time 11.548351049423218s\n"
     ]
    },
    {
     "name": "stderr",
     "output_type": "stream",
     "text": [
      "Detect in F:\\GitHub\\DICOM\\example\\data:  50%|███████████████████████████████████████████████████████████████████▌                                                                   | 2/4 [00:27<00:27, 13.71s/it]\n",
      "Detect in 0507_90day50u_20190812_mouse53SWI.nii:   0%|                                                                                                                                     | 0/30 [00:00<?, ?it/s]\n",
      "Detect in 0507_90day50u_20190812_mouse53SWI.nii:   3%|████▏                                                                                                                        | 1/30 [00:00<00:04,  6.67it/s]\n",
      "Detect in 0507_90day50u_20190812_mouse53SWI.nii:   7%|████████▎                                                                                                                    | 2/30 [00:00<00:05,  5.24it/s]\n",
      "Detect in 0507_90day50u_20190812_mouse53SWI.nii:  10%|████████████▌                                                                                                                | 3/30 [00:00<00:06,  4.07it/s]\n",
      "Detect in 0507_90day50u_20190812_mouse53SWI.nii:  13%|████████████████▋                                                                                                            | 4/30 [00:01<00:08,  3.23it/s]\n",
      "Detect in 0507_90day50u_20190812_mouse53SWI.nii:  17%|████████████████████▊                                                                                                        | 5/30 [00:01<00:08,  2.81it/s]\n",
      "Detect in 0507_90day50u_20190812_mouse53SWI.nii:  20%|█████████████████████████                                                                                                    | 6/30 [00:02<00:09,  2.49it/s]\n",
      "Detect in 0507_90day50u_20190812_mouse53SWI.nii:  23%|█████████████████████████████▏                                                                                               | 7/30 [00:02<00:11,  2.09it/s]\n",
      "Detect in 0507_90day50u_20190812_mouse53SWI.nii:  27%|█████████████████████████████████▎                                                                                           | 8/30 [00:03<00:10,  2.09it/s]\n",
      "Detect in 0507_90day50u_20190812_mouse53SWI.nii:  30%|█████████████████████████████████████▌                                                                                       | 9/30 [00:03<00:08,  2.47it/s]\n",
      "Detect in 0507_90day50u_20190812_mouse53SWI.nii:  33%|█████████████████████████████████████████▎                                                                                  | 10/30 [00:03<00:07,  2.72it/s]\n",
      "Detect in 0507_90day50u_20190812_mouse53SWI.nii:  37%|█████████████████████████████████████████████▍                                                                              | 11/30 [00:04<00:06,  3.16it/s]\n",
      "Detect in 0507_90day50u_20190812_mouse53SWI.nii:  40%|█████████████████████████████████████████████████▌                                                                          | 12/30 [00:04<00:05,  3.56it/s]\n",
      "Detect in 0507_90day50u_20190812_mouse53SWI.nii:  43%|█████████████████████████████████████████████████████▋                                                                      | 13/30 [00:04<00:04,  3.42it/s]\n",
      "Detect in 0507_90day50u_20190812_mouse53SWI.nii:  47%|█████████████████████████████████████████████████████████▊                                                                  | 14/30 [00:05<00:05,  2.97it/s]\n",
      "Detect in 0507_90day50u_20190812_mouse53SWI.nii:  50%|██████████████████████████████████████████████████████████████                                                              | 15/30 [00:05<00:04,  3.72it/s]\n",
      "Detect in 0507_90day50u_20190812_mouse53SWI.nii:  53%|██████████████████████████████████████████████████████████████████▏                                                         | 16/30 [00:05<00:03,  4.03it/s]\n",
      "Detect in 0507_90day50u_20190812_mouse53SWI.nii:  60%|██████████████████████████████████████████████████████████████████████████▍                                                 | 18/30 [00:05<00:02,  4.65it/s]\n",
      "Detect in 0507_90day50u_20190812_mouse53SWI.nii:  63%|██████████████████████████████████████████████████████████████████████████████▌                                             | 19/30 [00:05<00:02,  4.72it/s]\n",
      "Detect in 0507_90day50u_20190812_mouse53SWI.nii:  67%|██████████████████████████████████████████████████████████████████████████████████▋                                         | 20/30 [00:06<00:02,  3.34it/s]\n",
      "Detect in 0507_90day50u_20190812_mouse53SWI.nii:  70%|██████████████████████████████████████████████████████████████████████████████████████▊                                     | 21/30 [00:06<00:02,  3.39it/s]\n",
      "Detect in 0507_90day50u_20190812_mouse53SWI.nii:  73%|██████████████████████████████████████████████████████████████████████████████████████████▉                                 | 22/30 [00:06<00:02,  3.18it/s]\n",
      "Detect in 0507_90day50u_20190812_mouse53SWI.nii:  77%|███████████████████████████████████████████████████████████████████████████████████████████████                             | 23/30 [00:07<00:02,  3.25it/s]\n",
      "Detect in 0507_90day50u_20190812_mouse53SWI.nii:  80%|███████████████████████████████████████████████████████████████████████████████████████████████████▏                        | 24/30 [00:07<00:01,  3.16it/s]\n",
      "Detect in 0507_90day50u_20190812_mouse53SWI.nii:  83%|███████████████████████████████████████████████████████████████████████████████████████████████████████▎                    | 25/30 [00:07<00:01,  3.51it/s]\n",
      "Detect in 0507_90day50u_20190812_mouse53SWI.nii:  87%|███████████████████████████████████████████████████████████████████████████████████████████████████████████▍                | 26/30 [00:08<00:01,  3.94it/s]\n",
      "Detect in 0507_90day50u_20190812_mouse53SWI.nii:  90%|███████████████████████████████████████████████████████████████████████████████████████████████████████████████▌            | 27/30 [00:08<00:00,  4.02it/s]\n",
      "Detect in 0507_90day50u_20190812_mouse53SWI.nii:  93%|███████████████████████████████████████████████████████████████████████████████████████████████████████████████████▋        | 28/30 [00:08<00:00,  4.39it/s]\n",
      "Detect in 0507_90day50u_20190812_mouse53SWI.nii: 100%|████████████████████████████████████████████████████████████████████████████████████████████████████████████████████████████| 30/30 [00:08<00:00,  3.49it/s]\n"
     ]
    },
    {
     "name": "stdout",
     "output_type": "stream",
     "text": [
      "Using time 8.617179155349731s\n"
     ]
    },
    {
     "name": "stderr",
     "output_type": "stream",
     "text": [
      "Detect in F:\\GitHub\\DICOM\\example\\data:  75%|█████████████████████████████████████████████████████████████████████████████████████████████████████▎                                 | 3/4 [00:39<00:13, 13.10s/it]\n",
      "Detect in 0507_90day50u_20190812_mouse99SWI.nii:   0%|                                                                                                                                     | 0/30 [00:00<?, ?it/s]\n",
      "Detect in 0507_90day50u_20190812_mouse99SWI.nii:   7%|████████▎                                                                                                                    | 2/30 [00:00<00:01, 18.18it/s]\n",
      "Detect in 0507_90day50u_20190812_mouse99SWI.nii:  10%|████████████▌                                                                                                                | 3/30 [00:00<00:02, 13.48it/s]\n",
      "Detect in 0507_90day50u_20190812_mouse99SWI.nii:  13%|████████████████▋                                                                                                            | 4/30 [00:00<00:03,  8.59it/s]\n",
      "Detect in 0507_90day50u_20190812_mouse99SWI.nii:  17%|████████████████████▊                                                                                                        | 5/30 [00:01<00:06,  3.93it/s]\n",
      "Detect in 0507_90day50u_20190812_mouse99SWI.nii:  20%|█████████████████████████                                                                                                    | 6/30 [00:01<00:07,  3.27it/s]\n",
      "Detect in 0507_90day50u_20190812_mouse99SWI.nii:  23%|█████████████████████████████▏                                                                                               | 7/30 [00:01<00:08,  2.68it/s]\n",
      "Detect in 0507_90day50u_20190812_mouse99SWI.nii:  27%|█████████████████████████████████▎                                                                                           | 8/30 [00:02<00:08,  2.69it/s]\n",
      "Detect in 0507_90day50u_20190812_mouse99SWI.nii:  30%|█████████████████████████████████████▌                                                                                       | 9/30 [00:02<00:08,  2.59it/s]\n",
      "Detect in 0507_90day50u_20190812_mouse99SWI.nii:  33%|█████████████████████████████████████████▎                                                                                  | 10/30 [00:03<00:08,  2.50it/s]\n",
      "Detect in 0507_90day50u_20190812_mouse99SWI.nii:  37%|█████████████████████████████████████████████▍                                                                              | 11/30 [00:04<00:09,  1.91it/s]\n",
      "Detect in 0507_90day50u_20190812_mouse99SWI.nii:  40%|█████████████████████████████████████████████████▌                                                                          | 12/30 [00:05<00:12,  1.49it/s]\n",
      "Detect in 0507_90day50u_20190812_mouse99SWI.nii:  43%|█████████████████████████████████████████████████████▋                                                                      | 13/30 [00:06<00:13,  1.26it/s]\n",
      "Detect in 0507_90day50u_20190812_mouse99SWI.nii:  47%|█████████████████████████████████████████████████████████▊                                                                  | 14/30 [00:06<00:11,  1.34it/s]\n",
      "Detect in 0507_90day50u_20190812_mouse99SWI.nii:  50%|██████████████████████████████████████████████████████████████                                                              | 15/30 [00:07<00:10,  1.40it/s]\n",
      "Detect in 0507_90day50u_20190812_mouse99SWI.nii:  53%|██████████████████████████████████████████████████████████████████▏                                                         | 16/30 [00:07<00:08,  1.64it/s]\n",
      "Detect in 0507_90day50u_20190812_mouse99SWI.nii:  57%|██████████████████████████████████████████████████████████████████████▎                                                     | 17/30 [00:08<00:07,  1.75it/s]\n",
      "Detect in 0507_90day50u_20190812_mouse99SWI.nii:  60%|██████████████████████████████████████████████████████████████████████████▍                                                 | 18/30 [00:08<00:06,  1.76it/s]\n",
      "Detect in 0507_90day50u_20190812_mouse99SWI.nii:  63%|██████████████████████████████████████████████████████████████████████████████▌                                             | 19/30 [00:09<00:05,  2.01it/s]\n",
      "Detect in 0507_90day50u_20190812_mouse99SWI.nii:  67%|██████████████████████████████████████████████████████████████████████████████████▋                                         | 20/30 [00:09<00:04,  2.38it/s]\n",
      "Detect in 0507_90day50u_20190812_mouse99SWI.nii:  70%|██████████████████████████████████████████████████████████████████████████████████████▊                                     | 21/30 [00:09<00:03,  2.47it/s]\n",
      "Detect in 0507_90day50u_20190812_mouse99SWI.nii:  73%|██████████████████████████████████████████████████████████████████████████████████████████▉                                 | 22/30 [00:10<00:03,  2.53it/s]\n",
      "Detect in 0507_90day50u_20190812_mouse99SWI.nii:  77%|███████████████████████████████████████████████████████████████████████████████████████████████                             | 23/30 [00:10<00:02,  2.85it/s]\n",
      "Detect in 0507_90day50u_20190812_mouse99SWI.nii:  80%|███████████████████████████████████████████████████████████████████████████████████████████████████▏                        | 24/30 [00:10<00:02,  2.98it/s]\n",
      "Detect in 0507_90day50u_20190812_mouse99SWI.nii:  83%|███████████████████████████████████████████████████████████████████████████████████████████████████████▎                    | 25/30 [00:11<00:01,  2.82it/s]\n",
      "Detect in 0507_90day50u_20190812_mouse99SWI.nii:  87%|███████████████████████████████████████████████████████████████████████████████████████████████████████████▍                | 26/30 [00:11<00:01,  3.28it/s]\n",
      "Detect in 0507_90day50u_20190812_mouse99SWI.nii:  90%|███████████████████████████████████████████████████████████████████████████████████████████████████████████████▌            | 27/30 [00:11<00:00,  3.55it/s]\n",
      "Detect in 0507_90day50u_20190812_mouse99SWI.nii:  93%|███████████████████████████████████████████████████████████████████████████████████████████████████████████████████▋        | 28/30 [00:11<00:00,  4.28it/s]\n",
      "Detect in 0507_90day50u_20190812_mouse99SWI.nii: 100%|████████████████████████████████████████████████████████████████████████████████████████████████████████████████████████████| 30/30 [00:11<00:00,  2.54it/s]\n"
     ]
    },
    {
     "name": "stdout",
     "output_type": "stream",
     "text": [
      "Using time 11.834861278533936s\n"
     ]
    },
    {
     "name": "stderr",
     "output_type": "stream",
     "text": [
      "Detect in F:\\GitHub\\DICOM\\example\\data: 100%|███████████████████████████████████████████████████████████████████████████████████████████████████████████████████████████████████████| 4/4 [00:54<00:00, 13.67s/it]\n"
     ]
    }
   ],
   "source": [
    "for file in tqdm(NII_fileList, desc='Detect in {}'.format(os.path.abspath(input_path))):\n",
    "    filename = os.path.basename(file)\n",
    "    output_name = '{}_detect_by_{}.nii'.format(filename.split('.')[-2], method)\n",
    "    output_path = os.path.join(result_path, output_name)\n",
    "    mask, _ = detect_file(file, model, method_net)\n",
    "    nib.save(mask, output_path)"
   ]
  },
  {
   "cell_type": "code",
   "execution_count": null,
   "metadata": {},
   "outputs": [],
   "source": []
  }
 ],
 "metadata": {
  "kernelspec": {
   "display_name": "Python 3",
   "language": "python",
   "name": "python3"
  },
  "language_info": {
   "codemirror_mode": {
    "name": "ipython",
    "version": 3
   },
   "file_extension": ".py",
   "mimetype": "text/x-python",
   "name": "python",
   "nbconvert_exporter": "python",
   "pygments_lexer": "ipython3",
   "version": "3.7.0"
  }
 },
 "nbformat": 4,
 "nbformat_minor": 2
}
