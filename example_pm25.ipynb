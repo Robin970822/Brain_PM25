{
 "cells": [
  {
   "cell_type": "code",
   "execution_count": 1,
   "metadata": {},
   "outputs": [
    {
     "name": "stderr",
     "output_type": "stream",
     "text": [
      "D:\\anaconda3\\lib\\site-packages\\tensorflow\\python\\framework\\dtypes.py:516: FutureWarning: Passing (type, 1) or '1type' as a synonym of type is deprecated; in a future version of numpy, it will be understood as (type, (1,)) / '(1,)type'.\n",
      "  _np_qint8 = np.dtype([(\"qint8\", np.int8, 1)])\n",
      "D:\\anaconda3\\lib\\site-packages\\tensorflow\\python\\framework\\dtypes.py:517: FutureWarning: Passing (type, 1) or '1type' as a synonym of type is deprecated; in a future version of numpy, it will be understood as (type, (1,)) / '(1,)type'.\n",
      "  _np_quint8 = np.dtype([(\"quint8\", np.uint8, 1)])\n",
      "D:\\anaconda3\\lib\\site-packages\\tensorflow\\python\\framework\\dtypes.py:518: FutureWarning: Passing (type, 1) or '1type' as a synonym of type is deprecated; in a future version of numpy, it will be understood as (type, (1,)) / '(1,)type'.\n",
      "  _np_qint16 = np.dtype([(\"qint16\", np.int16, 1)])\n",
      "D:\\anaconda3\\lib\\site-packages\\tensorflow\\python\\framework\\dtypes.py:519: FutureWarning: Passing (type, 1) or '1type' as a synonym of type is deprecated; in a future version of numpy, it will be understood as (type, (1,)) / '(1,)type'.\n",
      "  _np_quint16 = np.dtype([(\"quint16\", np.uint16, 1)])\n",
      "D:\\anaconda3\\lib\\site-packages\\tensorflow\\python\\framework\\dtypes.py:520: FutureWarning: Passing (type, 1) or '1type' as a synonym of type is deprecated; in a future version of numpy, it will be understood as (type, (1,)) / '(1,)type'.\n",
      "  _np_qint32 = np.dtype([(\"qint32\", np.int32, 1)])\n",
      "D:\\anaconda3\\lib\\site-packages\\tensorflow\\python\\framework\\dtypes.py:525: FutureWarning: Passing (type, 1) or '1type' as a synonym of type is deprecated; in a future version of numpy, it will be understood as (type, (1,)) / '(1,)type'.\n",
      "  np_resource = np.dtype([(\"resource\", np.ubyte, 1)])\n",
      "D:\\anaconda3\\lib\\site-packages\\tensorboard\\compat\\tensorflow_stub\\dtypes.py:541: FutureWarning: Passing (type, 1) or '1type' as a synonym of type is deprecated; in a future version of numpy, it will be understood as (type, (1,)) / '(1,)type'.\n",
      "  _np_qint8 = np.dtype([(\"qint8\", np.int8, 1)])\n",
      "D:\\anaconda3\\lib\\site-packages\\tensorboard\\compat\\tensorflow_stub\\dtypes.py:542: FutureWarning: Passing (type, 1) or '1type' as a synonym of type is deprecated; in a future version of numpy, it will be understood as (type, (1,)) / '(1,)type'.\n",
      "  _np_quint8 = np.dtype([(\"quint8\", np.uint8, 1)])\n",
      "D:\\anaconda3\\lib\\site-packages\\tensorboard\\compat\\tensorflow_stub\\dtypes.py:543: FutureWarning: Passing (type, 1) or '1type' as a synonym of type is deprecated; in a future version of numpy, it will be understood as (type, (1,)) / '(1,)type'.\n",
      "  _np_qint16 = np.dtype([(\"qint16\", np.int16, 1)])\n",
      "D:\\anaconda3\\lib\\site-packages\\tensorboard\\compat\\tensorflow_stub\\dtypes.py:544: FutureWarning: Passing (type, 1) or '1type' as a synonym of type is deprecated; in a future version of numpy, it will be understood as (type, (1,)) / '(1,)type'.\n",
      "  _np_quint16 = np.dtype([(\"quint16\", np.uint16, 1)])\n",
      "D:\\anaconda3\\lib\\site-packages\\tensorboard\\compat\\tensorflow_stub\\dtypes.py:545: FutureWarning: Passing (type, 1) or '1type' as a synonym of type is deprecated; in a future version of numpy, it will be understood as (type, (1,)) / '(1,)type'.\n",
      "  _np_qint32 = np.dtype([(\"qint32\", np.int32, 1)])\n",
      "D:\\anaconda3\\lib\\site-packages\\tensorboard\\compat\\tensorflow_stub\\dtypes.py:550: FutureWarning: Passing (type, 1) or '1type' as a synonym of type is deprecated; in a future version of numpy, it will be understood as (type, (1,)) / '(1,)type'.\n",
      "  np_resource = np.dtype([(\"resource\", np.ubyte, 1)])\n",
      "Using TensorFlow backend.\n"
     ]
    }
   ],
   "source": [
    "from utils import propose_region, bet_unet\n",
    "from model import load_model, unet\n",
    "from tqdm import tqdm\n",
    "\n",
    "import numpy as np\n",
    "import nibabel as nib\n",
    "\n",
    "import cv2\n",
    "import os\n",
    "import time"
   ]
  },
  {
   "cell_type": "code",
   "execution_count": 2,
   "metadata": {},
   "outputs": [],
   "source": [
    "def detect_file(filename, model, unet):\n",
    "    data = nib.load(filename)\n",
    "    mask = nib.load(filename)\n",
    "    mask_roi = nib.load(filename)\n",
    "\n",
    "    width, height, frame_num = data.shape\n",
    "    matrix = data.get_data()\n",
    "    bet_matrix = np.uint8(bet_unet(matrix, unet))\n",
    "\n",
    "    start = time.time()\n",
    "    for i in tqdm(range(frame_num), desc='Detect in {}'.format(os.path.basename(filename))):\n",
    "        img = matrix[:, :, i]\n",
    "        bet = bet_matrix[:, :, i]\n",
    "        selected, mask_ROI = detect(img, model, bet)\n",
    "        mask.get_data()[:, :, i] = selected\n",
    "        mask_roi.get_data()[:, :, i] = mask_ROI\n",
    "    end = time.time()\n",
    "\n",
    "    print('Using time {}s'.format(end - start))\n",
    "    return mask, mask_roi\n",
    "\n",
    "\n",
    "def detect(img, model, bet, pad=10, is_debug=False):\n",
    "    width, height = img.shape\n",
    "    mask_ROI = propose_region(img, is_debug) & bet\n",
    "    num, labels, stats, centroid = cv2.connectedComponentsWithStats(\n",
    "        mask_ROI, connectivity=8)\n",
    "    selected = np.zeros_like(img)\n",
    "    for i, stat, center in zip(range(num), stats, centroid):\n",
    "        if is_debug:\n",
    "            print(i, stat, center)\n",
    "        x, y, w, h, area = stat\n",
    "        # remove background\n",
    "        if x == 0 and y == 0:\n",
    "            continue\n",
    "        cx, cy = np.uint8(center)\n",
    "        # crop a slice around pickle\n",
    "        # valid bounder\n",
    "        if cx - pad < 0 or cx + pad > height or cy - pad < 0 or cy + pad > width:\n",
    "            continue\n",
    "        if is_debug:\n",
    "            print('label:{}, center:({},{})'.format(i, cx, cy))\n",
    "        slice_img = img[cy - pad: cy + pad, cx - pad: cx + pad]\n",
    "        slice_img = slice_img[:, :, np.newaxis]\n",
    "        slice_img = np.expand_dims(slice_img, axis=0)\n",
    "        res = model.predict(slice_img)\n",
    "        if np.argmax(res) == 1:\n",
    "            selected[labels == i] = np.max(res)\n",
    "            if is_debug:\n",
    "                print('label:{}, center:({},{})'.format(i, cx, cy))\n",
    "    return selected, mask_ROI"
   ]
  },
  {
   "cell_type": "markdown",
   "metadata": {},
   "source": [
    "路径定义，数据、模型与结果在example文件夹中"
   ]
  },
  {
   "cell_type": "code",
   "execution_count": 3,
   "metadata": {},
   "outputs": [],
   "source": [
    "data_root = 'example/data'\n",
    "model_path = 'example/model'\n",
    "result_path = 'example/result'\n",
    "mask_path = 'example/mask'"
   ]
  },
  {
   "cell_type": "markdown",
   "metadata": {},
   "source": [
    "# 单张图片检测"
   ]
  },
  {
   "cell_type": "code",
   "execution_count": 4,
   "metadata": {},
   "outputs": [
    {
     "name": "stdout",
     "output_type": "stream",
     "text": [
      "WARNING:tensorflow:From D:\\anaconda3\\lib\\site-packages\\keras\\backend\\tensorflow_backend.py:74: The name tf.get_default_graph is deprecated. Please use tf.compat.v1.get_default_graph instead.\n",
      "\n",
      "WARNING:tensorflow:From D:\\anaconda3\\lib\\site-packages\\keras\\backend\\tensorflow_backend.py:517: The name tf.placeholder is deprecated. Please use tf.compat.v1.placeholder instead.\n",
      "\n",
      "WARNING:tensorflow:From D:\\anaconda3\\lib\\site-packages\\keras\\backend\\tensorflow_backend.py:4185: The name tf.truncated_normal is deprecated. Please use tf.random.truncated_normal instead.\n",
      "\n",
      "WARNING:tensorflow:From D:\\anaconda3\\lib\\site-packages\\keras\\backend\\tensorflow_backend.py:133: The name tf.placeholder_with_default is deprecated. Please use tf.compat.v1.placeholder_with_default instead.\n",
      "\n",
      "WARNING:tensorflow:From D:\\anaconda3\\lib\\site-packages\\keras\\backend\\tensorflow_backend.py:3445: calling dropout (from tensorflow.python.ops.nn_ops) with keep_prob is deprecated and will be removed in a future version.\n",
      "Instructions for updating:\n",
      "Please use `rate` instead of `keep_prob`. Rate should be set to `rate = 1 - keep_prob`.\n",
      "WARNING:tensorflow:From D:\\anaconda3\\lib\\site-packages\\keras\\backend\\tensorflow_backend.py:3976: The name tf.nn.max_pool is deprecated. Please use tf.nn.max_pool2d instead.\n",
      "\n",
      "WARNING:tensorflow:From D:\\anaconda3\\lib\\site-packages\\keras\\backend\\tensorflow_backend.py:4138: The name tf.random_uniform is deprecated. Please use tf.random.uniform instead.\n",
      "\n",
      "WARNING:tensorflow:From D:\\anaconda3\\lib\\site-packages\\keras\\optimizers.py:790: The name tf.train.Optimizer is deprecated. Please use tf.compat.v1.train.Optimizer instead.\n",
      "\n",
      "WARNING:tensorflow:From D:\\Projects\\Brain_PM25\\model.py:106: add_dispatch_support.<locals>.wrapper (from tensorflow.python.ops.array_ops) is deprecated and will be removed in a future version.\n",
      "Instructions for updating:\n",
      "Use tf.where in 2.0, which has the same broadcast rule as np.where\n",
      "WARNING:tensorflow:From D:\\anaconda3\\lib\\site-packages\\tensorflow\\python\\ops\\init_ops.py:97: calling Zeros.__init__ (from tensorflow.python.ops.init_ops) with dtype is deprecated and will be removed in a future version.\n",
      "Instructions for updating:\n",
      "Call initializer instance with the dtype argument instead of passing it to the constructor\n",
      "WARNING:tensorflow:From D:\\anaconda3\\lib\\site-packages\\tensorflow\\python\\ops\\init_ops.py:97: calling Ones.__init__ (from tensorflow.python.ops.init_ops) with dtype is deprecated and will be removed in a future version.\n",
      "Instructions for updating:\n",
      "Call initializer instance with the dtype argument instead of passing it to the constructor\n",
      "WARNING:tensorflow:From D:\\anaconda3\\lib\\site-packages\\tensorflow\\python\\ops\\init_ops.py:97: calling GlorotUniform.__init__ (from tensorflow.python.ops.init_ops) with dtype is deprecated and will be removed in a future version.\n",
      "Instructions for updating:\n",
      "Call initializer instance with the dtype argument instead of passing it to the constructor\n",
      "WARNING:tensorflow:From D:\\anaconda3\\lib\\site-packages\\tensorflow\\python\\ops\\init_ops.py:1251: calling VarianceScaling.__init__ (from tensorflow.python.ops.init_ops) with dtype is deprecated and will be removed in a future version.\n",
      "Instructions for updating:\n",
      "Call initializer instance with the dtype argument instead of passing it to the constructor\n",
      "WARNING:tensorflow:Sequential models without an `input_shape` passed to the first layer cannot reload their optimizer state. As a result, your model isstarting with a freshly initialized optimizer.\n"
     ]
    },
    {
     "name": "stderr",
     "output_type": "stream",
     "text": [
      "D:\\anaconda3\\lib\\site-packages\\ipykernel_launcher.py:7: DeprecationWarning: get_data() is deprecated in favor of get_fdata(), which has a more predictable return type. To obtain get_data() behavior going forward, use numpy.asanyarray(img.dataobj).\n",
      "\n",
      "* deprecated from version: 3.0\n",
      "* Will raise <class 'nibabel.deprecator.ExpiredDeprecationError'> as of version: 5.0\n",
      "  import sys\n",
      "Detect in 0507_90day50u_20190812_mouse51SWI.nii:   0%|                                                                                                                                                                                                                                                                                             | 0/30 [00:00<?, ?it/s]D:\\anaconda3\\lib\\site-packages\\ipykernel_launcher.py:15: DeprecationWarning: get_data() is deprecated in favor of get_fdata(), which has a more predictable return type. To obtain get_data() behavior going forward, use numpy.asanyarray(img.dataobj).\n",
      "\n",
      "* deprecated from version: 3.0\n",
      "* Will raise <class 'nibabel.deprecator.ExpiredDeprecationError'> as of version: 5.0\n",
      "  from ipykernel import kernelapp as app\n",
      "D:\\anaconda3\\lib\\site-packages\\ipykernel_launcher.py:16: DeprecationWarning: get_data() is deprecated in favor of get_fdata(), which has a more predictable return type. To obtain get_data() behavior going forward, use numpy.asanyarray(img.dataobj).\n",
      "\n",
      "* deprecated from version: 3.0\n",
      "* Will raise <class 'nibabel.deprecator.ExpiredDeprecationError'> as of version: 5.0\n",
      "  app.launch_new_instance()\n",
      "D:\\anaconda3\\lib\\site-packages\\ipykernel_launcher.py:15: DeprecationWarning: get_data() is deprecated in favor of get_fdata(), which has a more predictable return type. To obtain get_data() behavior going forward, use numpy.asanyarray(img.dataobj).\n",
      "\n",
      "* deprecated from version: 3.0\n",
      "* Will raise <class 'nibabel.deprecator.ExpiredDeprecationError'> as of version: 5.0\n",
      "  from ipykernel import kernelapp as app\n",
      "D:\\anaconda3\\lib\\site-packages\\ipykernel_launcher.py:16: DeprecationWarning: get_data() is deprecated in favor of get_fdata(), which has a more predictable return type. To obtain get_data() behavior going forward, use numpy.asanyarray(img.dataobj).\n",
      "\n",
      "* deprecated from version: 3.0\n",
      "* Will raise <class 'nibabel.deprecator.ExpiredDeprecationError'> as of version: 5.0\n",
      "  app.launch_new_instance()\n",
      "Detect in 0507_90day50u_20190812_mouse51SWI.nii: 100%|████████████████████████████████████████████████████████████████████████████████████████████████████████████████████████████████████████████████████████████████████████████████████████████████████████████████████████████████████████████████████████████████████████████████████| 30/30 [00:02<00:00, 10.59it/s]\n"
     ]
    },
    {
     "name": "stdout",
     "output_type": "stream",
     "text": [
      "Using time 2.8327267169952393s\n"
     ]
    }
   ],
   "source": [
    "data_filename = '0507_90day50u_20190812_mouse51SWI.nii'\n",
    "data_path = os.path.join(data_root, data_filename)\n",
    "\n",
    "result_filename = '{}_detect.nii'.format(data_filename.split('/')[-1].split('.')[-2])\n",
    "\n",
    "result_nii = os.path.join(result_path, result_filename)\n",
    "\n",
    "model_name = 'CNN_p10_e2000.h5'\n",
    "unet_path = os.path.join(model_path, 'unet_BET2.hdf5')\n",
    "clf_path = os.path.join(model_path, model_name)\n",
    "bet_net = unet(pretrained_weights=unet_path)\n",
    "model = load_model(clf_path)\n",
    "\n",
    "mask, mask_roi = detect_file(data_path, model, bet_net)\n",
    "\n",
    "nib.save(mask, result_nii)\n",
    "nib.save(mask_roi, 'roi.nii')"
   ]
  },
  {
   "cell_type": "markdown",
   "metadata": {},
   "source": [
    "# 多张图片检测"
   ]
  },
  {
   "cell_type": "code",
   "execution_count": 5,
   "metadata": {},
   "outputs": [
    {
     "name": "stdout",
     "output_type": "stream",
     "text": [
      "WARNING:tensorflow:Sequential models without an `input_shape` passed to the first layer cannot reload their optimizer state. As a result, your model isstarting with a freshly initialized optimizer.\n"
     ]
    }
   ],
   "source": [
    "model_name = 'CNN_p10_e2000.h5'\n",
    "clf_path = os.path.join(model_path, model_name)\n",
    "model = load_model(clf_path)\n",
    "\n",
    "input_path = os.path.join(data_root, './')"
   ]
  },
  {
   "cell_type": "markdown",
   "metadata": {},
   "source": [
    "method = ['bet', 'heatmap', 'unet'] 分别对应形态学、Heatmap和Unet三种检测方法"
   ]
  },
  {
   "cell_type": "code",
   "execution_count": 6,
   "metadata": {},
   "outputs": [
    {
     "name": "stdout",
     "output_type": "stream",
     "text": [
      "Using bet for detection...\n"
     ]
    }
   ],
   "source": [
    "method = 'bet'\n",
    "print('Using {} for detection...'.format(method))\n",
    "if method == 'bet':\n",
    "    method_path = os.path.join(model_path, 'unet_BET2.hdf5')\n",
    "    from detect import detect_file\n",
    "elif method == 'heatmap':\n",
    "    method_path = os.path.join(model_path, 'unet_pm25_yuzq.hdf5')\n",
    "    from detect_by_heatmap import detect_file\n",
    "elif method == 'unet':\n",
    "    method_path = os.path.join(model_path, 'unet_pm25_yuzq.hdf5')\n",
    "    from detect_by_unet import detect_file\n",
    "method_net = unet(pretrained_weights=method_path)"
   ]
  },
  {
   "cell_type": "code",
   "execution_count": 7,
   "metadata": {},
   "outputs": [],
   "source": [
    "NII_fileList = []\n",
    "for dirName, subdirList, fileList in os.walk(input_path):\n",
    "    for filename in fileList:\n",
    "        if \".nii\" in filename.lower():\n",
    "            # print filename\n",
    "            NII_fileList.append(os.path.join(dirName, filename))"
   ]
  },
  {
   "cell_type": "code",
   "execution_count": null,
   "metadata": {},
   "outputs": [
    {
     "name": "stderr",
     "output_type": "stream",
     "text": [
      "Detect in D:\\Projects\\Brain_PM25\\example\\data:   0%|                                                                                                                                                                                                                                                                                                | 0/4 [00:00<?, ?it/s]\n",
      "Detect in 0507_90day50u_20190812_mouse51SWI.nii:   0%|                                                                                                                                                                                                                                                                                             | 0/30 [00:00<?, ?it/s]\n",
      "Detect in 0507_90day50u_20190812_mouse51SWI.nii:   7%|██████████████████▍                                                                                                                                                                                                                                                                  | 2/30 [00:00<00:04,  5.62it/s]\n",
      "Detect in 0507_90day50u_20190812_mouse51SWI.nii:  13%|████████████████████████████████████▉                                                                                                                                                                                                                                                | 4/30 [00:00<00:03,  6.81it/s]\n",
      "Detect in 0507_90day50u_20190812_mouse51SWI.nii:  20%|███████████████████████████████████████████████████████▍                                                                                                                                                                                                                             | 6/30 [00:00<00:03,  7.69it/s]\n",
      "Detect in 0507_90day50u_20190812_mouse51SWI.nii:  23%|████████████████████████████████████████████████████████████████▋                                                                                                                                                                                                                    | 7/30 [00:00<00:03,  7.34it/s]\n",
      "Detect in 0507_90day50u_20190812_mouse51SWI.nii:  27%|█████████████████████████████████████████████████████████████████████████▊                                                                                                                                                                                                           | 8/30 [00:00<00:02,  7.90it/s]\n",
      "Detect in 0507_90day50u_20190812_mouse51SWI.nii:  30%|███████████████████████████████████████████████████████████████████████████████████                                                                                                                                                                                                  | 9/30 [00:01<00:02,  8.42it/s]\n",
      "Detect in 0507_90day50u_20190812_mouse51SWI.nii:  33%|████████████████████████████████████████████████████████████████████████████████████████████                                                                                                                                                                                        | 10/30 [00:01<00:02,  7.86it/s]\n",
      "Detect in 0507_90day50u_20190812_mouse51SWI.nii:  37%|█████████████████████████████████████████████████████████████████████████████████████████████████████▏                                                                                                                                                                              | 11/30 [00:01<00:02,  7.20it/s]\n",
      "Detect in 0507_90day50u_20190812_mouse51SWI.nii:  40%|██████████████████████████████████████████████████████████████████████████████████████████████████████████████▍                                                                                                                                                                     | 12/30 [00:01<00:02,  7.26it/s]\n",
      "Detect in 0507_90day50u_20190812_mouse51SWI.nii:  43%|███████████████████████████████████████████████████████████████████████████████████████████████████████████████████████▌                                                                                                                                                            | 13/30 [00:01<00:02,  7.58it/s]\n",
      "Detect in 0507_90day50u_20190812_mouse51SWI.nii:  47%|████████████████████████████████████████████████████████████████████████████████████████████████████████████████████████████████▊                                                                                                                                                   | 14/30 [00:01<00:02,  7.08it/s]\n",
      "Detect in 0507_90day50u_20190812_mouse51SWI.nii:  53%|███████████████████████████████████████████████████████████████████████████████████████████████████████████████████████████████████████████████████▏                                                                                                                                | 16/30 [00:01<00:01,  8.55it/s]\n",
      "Detect in 0507_90day50u_20190812_mouse51SWI.nii:  63%|██████████████████████████████████████████████████████████████████████████████████████████████████████████████████████████████████████████████████████████████████████████████▊                                                                                                     | 19/30 [00:02<00:01, 10.51it/s]\n",
      "Detect in 0507_90day50u_20190812_mouse51SWI.nii:  70%|█████████████████████████████████████████████████████████████████████████████████████████████████████████████████████████████████████████████████████████████████████████████████████████████████▏                                                                                  | 21/30 [00:02<00:00, 10.40it/s]\n",
      "Detect in 0507_90day50u_20190812_mouse51SWI.nii:  77%|███████████████████████████████████████████████████████████████████████████████████████████████████████████████████████████████████████████████████████████████████████████████████████████████████████████████████▌                                                                | 23/30 [00:02<00:00, 11.68it/s]\n",
      "Detect in 0507_90day50u_20190812_mouse51SWI.nii:  90%|████████████████████████████████████████████████████████████████████████████████████████████████████████████████████████████████████████████████████████████████████████████████████████████████████████████████████████████████████████████████████████▍                           | 27/30 [00:02<00:00, 13.87it/s]\n",
      "Detect in 0507_90day50u_20190812_mouse51SWI.nii: 100%|████████████████████████████████████████████████████████████████████████████████████████████████████████████████████████████████████████████████████████████████████████████████████████████████████████████████████████████████████████████████████████████████████████████████████| 30/30 [00:02<00:00, 11.59it/s]"
     ]
    },
    {
     "name": "stdout",
     "output_type": "stream",
     "text": [
      "Using time 2.58886456489563s\n"
     ]
    },
    {
     "name": "stderr",
     "output_type": "stream",
     "text": [
      "Detect in D:\\Projects\\Brain_PM25\\example\\data:  25%|██████████████████████████████████████████████████████████████████████                                                                                                                                                                                                                  | 1/4 [00:02<00:08,  2.94s/it]\n",
      "Detect in 0507_90day50u_20190812_mouse52SWI.nii:   0%|                                                                                                                                                                                                                                                                                             | 0/30 [00:00<?, ?it/s]\n",
      "Detect in 0507_90day50u_20190812_mouse52SWI.nii:   7%|██████████████████▍                                                                                                                                                                                                                                                                  | 2/30 [00:00<00:02, 10.76it/s]\n",
      "Detect in 0507_90day50u_20190812_mouse52SWI.nii:  10%|███████████████████████████▋                                                                                                                                                                                                                                                         | 3/30 [00:00<00:02,  9.68it/s]\n",
      "Detect in 0507_90day50u_20190812_mouse52SWI.nii:  13%|████████████████████████████████████▉                                                                                                                                                                                                                                                | 4/30 [00:00<00:02,  9.70it/s]\n",
      "Detect in 0507_90day50u_20190812_mouse52SWI.nii:  20%|███████████████████████████████████████████████████████▍                                                                                                                                                                                                                             | 6/30 [00:00<00:02,  9.26it/s]\n",
      "Detect in 0507_90day50u_20190812_mouse52SWI.nii:  23%|████████████████████████████████████████████████████████████████▋                                                                                                                                                                                                                    | 7/30 [00:00<00:03,  7.01it/s]\n",
      "Detect in 0507_90day50u_20190812_mouse52SWI.nii:  27%|█████████████████████████████████████████████████████████████████████████▊                                                                                                                                                                                                           | 8/30 [00:01<00:03,  6.89it/s]\n",
      "Detect in 0507_90day50u_20190812_mouse52SWI.nii:  30%|███████████████████████████████████████████████████████████████████████████████████                                                                                                                                                                                                  | 9/30 [00:01<00:02,  7.27it/s]\n",
      "Detect in 0507_90day50u_20190812_mouse52SWI.nii:  33%|████████████████████████████████████████████████████████████████████████████████████████████                                                                                                                                                                                        | 10/30 [00:01<00:03,  6.35it/s]\n",
      "Detect in 0507_90day50u_20190812_mouse52SWI.nii:  37%|█████████████████████████████████████████████████████████████████████████████████████████████████████▏                                                                                                                                                                              | 11/30 [00:01<00:03,  5.60it/s]\n",
      "Detect in 0507_90day50u_20190812_mouse52SWI.nii:  40%|██████████████████████████████████████████████████████████████████████████████████████████████████████████████▍                                                                                                                                                                     | 12/30 [00:01<00:02,  6.06it/s]\n",
      "Detect in 0507_90day50u_20190812_mouse52SWI.nii:  43%|███████████████████████████████████████████████████████████████████████████████████████████████████████████████████████▌                                                                                                                                                            | 13/30 [00:01<00:02,  5.91it/s]\n",
      "Detect in 0507_90day50u_20190812_mouse52SWI.nii:  47%|████████████████████████████████████████████████████████████████████████████████████████████████████████████████████████████████▊                                                                                                                                                   | 14/30 [00:02<00:02,  6.45it/s]\n",
      "Detect in 0507_90day50u_20190812_mouse52SWI.nii:  50%|██████████████████████████████████████████████████████████████████████████████████████████████████████████████████████████████████████████                                                                                                                                          | 15/30 [00:02<00:02,  7.19it/s]\n",
      "Detect in 0507_90day50u_20190812_mouse52SWI.nii:  57%|████████████████████████████████████████████████████████████████████████████████████████████████████████████████████████████████████████████████████████████▍                                                                                                                       | 17/30 [00:02<00:01,  8.07it/s]\n",
      "Detect in 0507_90day50u_20190812_mouse52SWI.nii:  60%|█████████████████████████████████████████████████████████████████████████████████████████████████████████████████████████████████████████████████████████████████████▌                                                                                                              | 18/30 [00:02<00:01,  8.14it/s]\n",
      "Detect in 0507_90day50u_20190812_mouse52SWI.nii:  63%|██████████████████████████████████████████████████████████████████████████████████████████████████████████████████████████████████████████████████████████████████████████████▊                                                                                                     | 19/30 [00:02<00:01,  8.47it/s]\n",
      "Detect in 0507_90day50u_20190812_mouse52SWI.nii:  70%|█████████████████████████████████████████████████████████████████████████████████████████████████████████████████████████████████████████████████████████████████████████████████████████████████▏                                                                                  | 21/30 [00:02<00:01,  8.62it/s]\n",
      "Detect in 0507_90day50u_20190812_mouse52SWI.nii:  73%|██████████████████████████████████████████████████████████████████████████████████████████████████████████████████████████████████████████████████████████████████████████████████████████████████████████▍                                                                         | 22/30 [00:02<00:00,  8.39it/s]\n",
      "Detect in 0507_90day50u_20190812_mouse52SWI.nii:  77%|███████████████████████████████████████████████████████████████████████████████████████████████████████████████████████████████████████████████████████████████████████████████████████████████████████████████████▌                                                                | 23/30 [00:02<00:00,  8.74it/s]\n",
      "Detect in 0507_90day50u_20190812_mouse52SWI.nii:  83%|██████████████████████████████████████████████████████████████████████████████████████████████████████████████████████████████████████████████████████████████████████████████████████████████████████████████████████████████████████                                              | 25/30 [00:03<00:00,  9.96it/s]\n"
     ]
    },
    {
     "name": "stderr",
     "output_type": "stream",
     "text": [
      "Detect in 0507_90day50u_20190812_mouse52SWI.nii:  90%|████████████████████████████████████████████████████████████████████████████████████████████████████████████████████████████████████████████████████████████████████████████████████████████████████████████████████████████████████████████████████████▍                           | 27/30 [00:03<00:00, 10.90it/s]\n",
      "Detect in 0507_90day50u_20190812_mouse52SWI.nii: 100%|████████████████████████████████████████████████████████████████████████████████████████████████████████████████████████████████████████████████████████████████████████████████████████████████████████████████████████████████████████████████████████████████████████████████████| 30/30 [00:03<00:00,  9.04it/s]"
     ]
    },
    {
     "name": "stdout",
     "output_type": "stream",
     "text": [
      "Using time 3.318913459777832s\n"
     ]
    },
    {
     "name": "stderr",
     "output_type": "stream",
     "text": [
      "Detect in D:\\Projects\\Brain_PM25\\example\\data:  50%|████████████████████████████████████████████████████████████████████████████████████████████████████████████████████████████████████████████                                                                                                                                            | 2/4 [00:06<00:06,  3.11s/it]\n",
      "Detect in 0507_90day50u_20190812_mouse53SWI.nii:   0%|                                                                                                                                                                                                                                                                                             | 0/30 [00:00<?, ?it/s]\n",
      "Detect in 0507_90day50u_20190812_mouse53SWI.nii:  10%|███████████████████████████▋                                                                                                                                                                                                                                                         | 3/30 [00:00<00:01, 14.42it/s]\n",
      "Detect in 0507_90day50u_20190812_mouse53SWI.nii:  13%|████████████████████████████████████▉                                                                                                                                                                                                                                                | 4/30 [00:00<00:02, 10.93it/s]\n",
      "Detect in 0507_90day50u_20190812_mouse53SWI.nii:  17%|██████████████████████████████████████████████▏                                                                                                                                                                                                                                      | 5/30 [00:00<00:02, 10.19it/s]"
     ]
    }
   ],
   "source": [
    "for file in tqdm(NII_fileList, desc='Detect in {}'.format(os.path.abspath(input_path))):\n",
    "    filename = os.path.basename(file)\n",
    "    output_name = '{}_detect_by_{}.nii'.format(filename.split('.')[-2], method)\n",
    "    output_path = os.path.join(result_path, output_name)\n",
    "    mask, _ = detect_file(file, model, method_net)\n",
    "    nib.save(mask, output_path)"
   ]
  },
  {
   "cell_type": "markdown",
   "metadata": {},
   "source": [
    "# 检测结果可视化"
   ]
  },
  {
   "cell_type": "code",
   "execution_count": null,
   "metadata": {},
   "outputs": [],
   "source": [
    "from matplotlib import pyplot as plt"
   ]
  },
  {
   "cell_type": "markdown",
   "metadata": {},
   "source": [
    "检测方法\n",
    "result_method = ['bet', 'heatmap', 'unet']"
   ]
  },
  {
   "cell_type": "code",
   "execution_count": null,
   "metadata": {},
   "outputs": [],
   "source": [
    "result_method = 'heatmap'"
   ]
  },
  {
   "cell_type": "markdown",
   "metadata": {},
   "source": [
    "测试文件\n",
    "data_filename = ['0507_90day50u_20190812_mouse51SWI.nii', '0507_90day50u_20190812_mouse52SWI.nii']\n",
    "标记文件\n",
    "mask_filename = ['51.nii', '52.nii']"
   ]
  },
  {
   "cell_type": "code",
   "execution_count": null,
   "metadata": {},
   "outputs": [],
   "source": [
    "data_filename = '0507_90day50u_20190812_mouse51SWI.nii'\n",
    "data_path = os.path.join(data_root, data_filename)\n",
    "mask_filename = os.path.join(mask_path, '51.nii')\n",
    "result_filename = os.path.join(result_path, '{}_detect_by_{}.nii'.format(data_filename.split('.')[-2], result_method))\n",
    "print('Data: {}\\nGround True: {}\\nResult: {}\\n'.format(data_path, mask_filename, result_filename))"
   ]
  },
  {
   "cell_type": "code",
   "execution_count": null,
   "metadata": {},
   "outputs": [],
   "source": [
    "data = nib.load(data_path)\n",
    "mask = nib.load(mask_filename)\n",
    "result = nib.load(result_filename)"
   ]
  },
  {
   "cell_type": "code",
   "execution_count": null,
   "metadata": {},
   "outputs": [],
   "source": [
    "data_matrix = data.get_data()\n",
    "pred_matrix = result.get_data()\n",
    "gt_matrix = mask.get_data()"
   ]
  },
  {
   "cell_type": "code",
   "execution_count": null,
   "metadata": {},
   "outputs": [],
   "source": [
    "data_matrix.shape"
   ]
  },
  {
   "cell_type": "markdown",
   "metadata": {},
   "source": [
    "MRI图像的所在层数 frame_num range from 1 to 30\n",
    "\n",
    "分类判断的阈值 threshold range from 0 to 1"
   ]
  },
  {
   "cell_type": "code",
   "execution_count": null,
   "metadata": {},
   "outputs": [],
   "source": [
    "frame_num = 14\n",
    "threshold = 0.5"
   ]
  },
  {
   "cell_type": "code",
   "execution_count": null,
   "metadata": {},
   "outputs": [],
   "source": [
    "img = data_matrix[:, :, frame_num]\n",
    "gt = gt_matrix[:, :, frame_num]\n",
    "pred = pred_matrix[:, :, frame_num]\n",
    "p = np.zeros_like(pred)\n",
    "p[pred > threshold] = 1"
   ]
  },
  {
   "cell_type": "code",
   "execution_count": null,
   "metadata": {},
   "outputs": [],
   "source": [
    "tp = np.array(np.uint8(gt) & np.uint8(p))\n",
    "fp = np.array(~np.uint8(gt) & np.uint8(p))\n",
    "fn = np.array(np.uint8(gt) & ~np.uint8(p))"
   ]
  },
  {
   "cell_type": "code",
   "execution_count": null,
   "metadata": {},
   "outputs": [],
   "source": [
    "plt.figure(figsize=(15, 15))\n",
    "plt.subplot(221)\n",
    "plt.title('Origin Image')\n",
    "plt.imshow(img, cmap='bone')\n",
    "plt.subplot(222)\n",
    "plt.title('Ground Truth')\n",
    "plt.imshow(img, cmap='bone')\n",
    "plt.scatter(np.where(gt == 1)[1], np.where(gt == 1)[0], c='Red', s=3)\n",
    "plt.subplot(223)\n",
    "plt.title('Prediction')\n",
    "plt.imshow(img, cmap='bone')\n",
    "plt.scatter(np.where(p == 1)[1], np.where(p == 1)[0], c='Red', s=3)\n",
    "plt.subplot(224)\n",
    "plt.title('True Positive: Green; False Positive: Red; False Negative: Blue')\n",
    "plt.imshow(img, cmap='bone')\n",
    "plt.scatter(np.where(tp == 1)[1], np.where(tp == 1)[0], c='Green', s=3)\n",
    "plt.scatter(np.where(fp == 1)[1], np.where(fp == 1)[0], c='Red', s=3)\n",
    "plt.scatter(np.where(fn == 1)[1], np.where(fn == 1)[0], c='Blue', s=3)"
   ]
  },
  {
   "cell_type": "code",
   "execution_count": null,
   "metadata": {},
   "outputs": [],
   "source": []
  },
  {
   "cell_type": "code",
   "execution_count": null,
   "metadata": {},
   "outputs": [],
   "source": []
  },
  {
   "cell_type": "code",
   "execution_count": null,
   "metadata": {},
   "outputs": [],
   "source": []
  },
  {
   "cell_type": "code",
   "execution_count": null,
   "metadata": {},
   "outputs": [],
   "source": []
  },
  {
   "cell_type": "code",
   "execution_count": null,
   "metadata": {},
   "outputs": [],
   "source": []
  }
 ],
 "metadata": {
  "kernelspec": {
   "display_name": "Python 3",
   "language": "python",
   "name": "python3"
  },
  "language_info": {
   "codemirror_mode": {
    "name": "ipython",
    "version": 3
   },
   "file_extension": ".py",
   "mimetype": "text/x-python",
   "name": "python",
   "nbconvert_exporter": "python",
   "pygments_lexer": "ipython3",
   "version": "3.7.0"
  }
 },
 "nbformat": 4,
 "nbformat_minor": 2
}
